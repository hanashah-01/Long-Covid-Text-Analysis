{
  "nbformat": 4,
  "nbformat_minor": 0,
  "metadata": {
    "colab": {
      "provenance": []
    },
    "kernelspec": {
      "name": "python3",
      "display_name": "Python 3"
    },
    "language_info": {
      "name": "python"
    }
  },
  "cells": [
    {
      "cell_type": "markdown",
      "source": [
        "# Natural Language Processing: Assignment 1"
      ],
      "metadata": {
        "id": "ai6wQFEC11tI"
      }
    },
    {
      "cell_type": "markdown",
      "source": [
        "By Hana Shah and Kristal Tan Kar Yee"
      ],
      "metadata": {
        "id": "cvJ3dipPDOy2"
      }
    },
    {
      "cell_type": "markdown",
      "source": [
        "# 1. Introduction"
      ],
      "metadata": {
        "id": "iGruRssb1-RB"
      }
    },
    {
      "cell_type": "markdown",
      "source": [
        "This is an NLP project that focuses on exploratory text analysis on a Reddit posts dataset to determine the most common Long Covid symptoms experienced by people with history of Covid-19. This project uses several Python libraries such as:\n",
        "\n",
        "\n",
        "*   PRAW (For Reddit data scraping)\n",
        "*   Pandas\n",
        "*   Numpy\n",
        "*   NLTK (For text pre-processing)\n",
        "*   String\n",
        "*   Re (For regular expression)\n",
        "*   Matplotlib, wordcloud, PIL, random (For data visualization)\n",
        "\n",
        "\n",
        "\n",
        "\n",
        "\n",
        "\n",
        "\n",
        "\n",
        "\n",
        "\n"
      ],
      "metadata": {
        "id": "mQJxcZ7A2DP_"
      }
    },
    {
      "cell_type": "markdown",
      "source": [
        "# Table Of Contents"
      ],
      "metadata": {
        "id": "7kYci0B93JL9"
      }
    },
    {
      "cell_type": "markdown",
      "source": [
        "1. [Introduction](#intro)\n",
        "2. [Data Scraping/Acquisition](#dataq)\n",
        "3. [Data Cleaning](#datac)\n",
        "4. [Data Visualization](#datav)\n",
        "5. [Conclusion](#conclude)"
      ],
      "metadata": {
        "id": "Yc4BJbR63NY4"
      }
    },
    {
      "cell_type": "markdown",
      "source": [
        "<a id=\"dataq\"></a>\n",
        "# Data Scraping/Acquisition"
      ],
      "metadata": {
        "id": "JuuI6vfB3cie"
      }
    },
    {
      "cell_type": "markdown",
      "source": [
        "#### Importing Libraries\n",
        "Importing all libraries needed. More libraries will be imported if required."
      ],
      "metadata": {
        "id": "xjolq5aR3jc-"
      }
    },
    {
      "cell_type": "code",
      "source": [
        "pip install praw"
      ],
      "metadata": {
        "colab": {
          "base_uri": "https://localhost:8080/"
        },
        "id": "lkzQl7BW4fB1",
        "outputId": "9a2e1dc0-b3ce-461f-b8c4-d881016df080"
      },
      "execution_count": null,
      "outputs": [
        {
          "output_type": "stream",
          "name": "stdout",
          "text": [
            "Looking in indexes: https://pypi.org/simple, https://us-python.pkg.dev/colab-wheels/public/simple/\n",
            "Collecting praw\n",
            "  Downloading praw-7.6.1-py3-none-any.whl (188 kB)\n",
            "\u001b[K     |████████████████████████████████| 188 kB 5.3 MB/s \n",
            "\u001b[?25hCollecting websocket-client>=0.54.0\n",
            "  Downloading websocket_client-1.4.2-py3-none-any.whl (55 kB)\n",
            "\u001b[K     |████████████████████████████████| 55 kB 3.2 MB/s \n",
            "\u001b[?25hCollecting prawcore<3,>=2.1\n",
            "  Downloading prawcore-2.3.0-py3-none-any.whl (16 kB)\n",
            "Collecting update-checker>=0.18\n",
            "  Downloading update_checker-0.18.0-py3-none-any.whl (7.0 kB)\n",
            "Requirement already satisfied: requests<3.0,>=2.6.0 in /usr/local/lib/python3.8/dist-packages (from prawcore<3,>=2.1->praw) (2.23.0)\n",
            "Requirement already satisfied: certifi>=2017.4.17 in /usr/local/lib/python3.8/dist-packages (from requests<3.0,>=2.6.0->prawcore<3,>=2.1->praw) (2022.9.24)\n",
            "Requirement already satisfied: chardet<4,>=3.0.2 in /usr/local/lib/python3.8/dist-packages (from requests<3.0,>=2.6.0->prawcore<3,>=2.1->praw) (3.0.4)\n",
            "Requirement already satisfied: idna<3,>=2.5 in /usr/local/lib/python3.8/dist-packages (from requests<3.0,>=2.6.0->prawcore<3,>=2.1->praw) (2.10)\n",
            "Requirement already satisfied: urllib3!=1.25.0,!=1.25.1,<1.26,>=1.21.1 in /usr/local/lib/python3.8/dist-packages (from requests<3.0,>=2.6.0->prawcore<3,>=2.1->praw) (1.24.3)\n",
            "Installing collected packages: websocket-client, update-checker, prawcore, praw\n",
            "Successfully installed praw-7.6.1 prawcore-2.3.0 update-checker-0.18.0 websocket-client-1.4.2\n"
          ]
        }
      ]
    },
    {
      "cell_type": "code",
      "source": [
        "pip install nltk"
      ],
      "metadata": {
        "colab": {
          "base_uri": "https://localhost:8080/"
        },
        "id": "Ws7JvDVi4np5",
        "outputId": "ca8740a2-b267-4d16-f531-0b5b89942cec"
      },
      "execution_count": null,
      "outputs": [
        {
          "output_type": "stream",
          "name": "stdout",
          "text": [
            "Looking in indexes: https://pypi.org/simple, https://us-python.pkg.dev/colab-wheels/public/simple/\n",
            "Requirement already satisfied: nltk in /usr/local/lib/python3.8/dist-packages (3.7)\n",
            "Requirement already satisfied: click in /usr/local/lib/python3.8/dist-packages (from nltk) (7.1.2)\n",
            "Requirement already satisfied: joblib in /usr/local/lib/python3.8/dist-packages (from nltk) (1.2.0)\n",
            "Requirement already satisfied: tqdm in /usr/local/lib/python3.8/dist-packages (from nltk) (4.64.1)\n",
            "Requirement already satisfied: regex>=2021.8.3 in /usr/local/lib/python3.8/dist-packages (from nltk) (2022.6.2)\n"
          ]
        }
      ]
    },
    {
      "cell_type": "code",
      "source": [
        "pip install emot"
      ],
      "metadata": {
        "colab": {
          "base_uri": "https://localhost:8080/"
        },
        "id": "2joi7K1p4teB",
        "outputId": "acae4528-0b86-4b59-b9e7-05902c0d9d1e"
      },
      "execution_count": null,
      "outputs": [
        {
          "output_type": "stream",
          "name": "stdout",
          "text": [
            "Looking in indexes: https://pypi.org/simple, https://us-python.pkg.dev/colab-wheels/public/simple/\n",
            "Collecting emot\n",
            "  Downloading emot-3.1-py3-none-any.whl (61 kB)\n",
            "\u001b[K     |████████████████████████████████| 61 kB 18 kB/s \n",
            "\u001b[?25hInstalling collected packages: emot\n",
            "Successfully installed emot-3.1\n"
          ]
        }
      ]
    },
    {
      "cell_type": "code",
      "source": [
        "import pandas as pd\n",
        "import numpy as np\n",
        "import praw\n",
        "import string\n",
        "import nltk\n",
        "from nltk.corpus import stopwords # For stop words\n",
        "from emot.emo_unicode import UNICODE_EMOJI # For emojis\n",
        "from nltk.tokenize import word_tokenize # to create word tokens\n",
        "from nltk.stem import WordNetLemmatizer # to reduce words to orginal form\n",
        "import re\n",
        "\n",
        "import warnings \n",
        "warnings.filterwarnings('ignore')"
      ],
      "metadata": {
        "id": "Ez3OCdB_2auF"
      },
      "execution_count": null,
      "outputs": []
    },
    {
      "cell_type": "code",
      "source": [
        "reddit = praw.Reddit(client_id='b_8FjYgoAJU5VJX1Ksc0tA', client_secret='OWEb2YOwRVreWptuxQRpmnsdz2U93g', user_agent='Data WebScraping',check_for_async=False)"
      ],
      "metadata": {
        "id": "qjMNRT-p5DHH"
      },
      "execution_count": null,
      "outputs": []
    },
    {
      "cell_type": "code",
      "source": [
        "# get 1000 posts from the LongCovid subreddit\n",
        "posts = []\n",
        "lc_subreddit = reddit.subreddit('LongCovid')\n",
        "for post in lc_subreddit.hot(limit=1000):\n",
        "    posts.append([post.title, post.score, post.id, post.subreddit, post.url, post.num_comments, post.selftext, post.created])\n",
        "posts = pd.DataFrame(posts,columns=['title', 'score', 'id', 'subreddit', 'url', 'num_comments', 'body', 'created'])\n",
        "print(posts)"
      ],
      "metadata": {
        "colab": {
          "base_uri": "https://localhost:8080/"
        },
        "id": "j-QP-jaS42xj",
        "outputId": "463170d3-5c96-4dda-d90b-7c9dc266b4c2"
      },
      "execution_count": null,
      "outputs": [
        {
          "output_type": "stream",
          "name": "stdout",
          "text": [
            "                                                 title  score      id  \\\n",
            "0    Post-Covid Headache: Symptoms, Causes and Trea...     33  v4tqz8   \n",
            "1                    Vagus Nerve Stim WARNING (Urgent)     10  z1vbs9   \n",
            "2       Anyone else constantly “under the weather” 🤧??      7  z1vahm   \n",
            "3                            Links to studies for LDN?      5  z1tl79   \n",
            "4    Did you ‘recover’ from Covid before Long Covid...      1  z21e8g   \n",
            "..                                                 ...    ...     ...   \n",
            "977       Medication/Supplements to help with fatigue?      9  xcf7pa   \n",
            "978  Anyone have an app(android preferred) to track...      1  xcw034   \n",
            "979  Can you help? Is there anyone with similar sym...      5  xckc8k   \n",
            "980           Media coverage — article link sharing :)      0  xculhz   \n",
            "981                                Excessive yawning??      1  xcu0g0   \n",
            "\n",
            "     subreddit                                                url  \\\n",
            "0    LongCovid  https://www.reddit.com/r/LongCovid/comments/v4...   \n",
            "1    LongCovid  https://www.reddit.com/r/LongCovid/comments/z1...   \n",
            "2    LongCovid  https://www.reddit.com/r/LongCovid/comments/z1...   \n",
            "3    LongCovid  https://www.reddit.com/r/LongCovid/comments/z1...   \n",
            "4    LongCovid  https://www.reddit.com/r/LongCovid/comments/z2...   \n",
            "..         ...                                                ...   \n",
            "977  LongCovid  https://www.reddit.com/r/LongCovid/comments/xc...   \n",
            "978  LongCovid  https://www.reddit.com/r/LongCovid/comments/xc...   \n",
            "979  LongCovid  https://www.reddit.com/r/LongCovid/comments/xc...   \n",
            "980  LongCovid  https://www.reddit.com/r/LongCovid/comments/xc...   \n",
            "981  LongCovid  https://www.reddit.com/r/LongCovid/comments/xc...   \n",
            "\n",
            "     num_comments                                               body  \\\n",
            "0              51  **Neura Health Post-Covid Headache: Symptoms, ...   \n",
            "1              25  Last night I finally used an electrotherapy de...   \n",
            "2               3  Seems as if my immune system is now non existe...   \n",
            "3               7  Hi, does anyone have any links to studies show...   \n",
            "4               0  Trying really hard to work out whether having ...   \n",
            "..            ...                                                ...   \n",
            "977            21  Hey long haulers, I’m struggling with fatigue ...   \n",
            "978             1  Title.   \\nNotepads don't work, calender doesn...   \n",
            "979             9  Hi!\\n\\nI have read so many people's stories on...   \n",
            "980             0  Hello fellow fighters <3, what do you think ha...   \n",
            "981            15  So I got covid (pretty sure omicron) 01/2022 a...   \n",
            "\n",
            "        created  \n",
            "0    1654364074  \n",
            "1    1669128206  \n",
            "2    1669128121  \n",
            "3    1669123678  \n",
            "4    1669142783  \n",
            "..          ...  \n",
            "977  1662995163  \n",
            "978  1663037548  \n",
            "979  1663007300  \n",
            "980  1663033562  \n",
            "981  1663031907  \n",
            "\n",
            "[982 rows x 8 columns]\n"
          ]
        }
      ]
    },
    {
      "cell_type": "markdown",
      "source": [
        "## Data Assessment"
      ],
      "metadata": {
        "id": "od0oevCo7T33"
      }
    },
    {
      "cell_type": "code",
      "source": [
        "# Checking the number of rows and columns\n",
        "posts.shape"
      ],
      "metadata": {
        "colab": {
          "base_uri": "https://localhost:8080/"
        },
        "id": "F8BO93Ki65VQ",
        "outputId": "6c670565-88e5-405e-c9d3-406ac1e3566f"
      },
      "execution_count": null,
      "outputs": [
        {
          "output_type": "execute_result",
          "data": {
            "text/plain": [
              "(982, 8)"
            ]
          },
          "metadata": {},
          "execution_count": 46
        }
      ]
    },
    {
      "cell_type": "code",
      "source": [
        "# Checking the first five rows of dataframe\n",
        "posts.head()"
      ],
      "metadata": {
        "colab": {
          "base_uri": "https://localhost:8080/",
          "height": 615
        },
        "id": "d6i4qQMP6_2W",
        "outputId": "9dbed9fb-091a-43bf-ba70-af8a3b26b9c8"
      },
      "execution_count": null,
      "outputs": [
        {
          "output_type": "execute_result",
          "data": {
            "text/plain": [
              "                                               title  score      id  \\\n",
              "0  Post-Covid Headache: Symptoms, Causes and Trea...     33  v4tqz8   \n",
              "1                  Vagus Nerve Stim WARNING (Urgent)     10  z1vbs9   \n",
              "2     Anyone else constantly “under the weather” 🤧??      7  z1vahm   \n",
              "3                          Links to studies for LDN?      5  z1tl79   \n",
              "4  Did you ‘recover’ from Covid before Long Covid...      1  z21e8g   \n",
              "\n",
              "   subreddit                                                url  num_comments  \\\n",
              "0  LongCovid  https://www.reddit.com/r/LongCovid/comments/v4...            51   \n",
              "1  LongCovid  https://www.reddit.com/r/LongCovid/comments/z1...            25   \n",
              "2  LongCovid  https://www.reddit.com/r/LongCovid/comments/z1...             3   \n",
              "3  LongCovid  https://www.reddit.com/r/LongCovid/comments/z1...             7   \n",
              "4  LongCovid  https://www.reddit.com/r/LongCovid/comments/z2...             0   \n",
              "\n",
              "                                                body     created  \n",
              "0  **Neura Health Post-Covid Headache: Symptoms, ...  1654364074  \n",
              "1  Last night I finally used an electrotherapy de...  1669128206  \n",
              "2  Seems as if my immune system is now non existe...  1669128121  \n",
              "3  Hi, does anyone have any links to studies show...  1669123678  \n",
              "4  Trying really hard to work out whether having ...  1669142783  "
            ],
            "text/html": [
              "\n",
              "  <div id=\"df-dcfa9042-fb0c-41a7-99ce-9869812cf260\">\n",
              "    <div class=\"colab-df-container\">\n",
              "      <div>\n",
              "<style scoped>\n",
              "    .dataframe tbody tr th:only-of-type {\n",
              "        vertical-align: middle;\n",
              "    }\n",
              "\n",
              "    .dataframe tbody tr th {\n",
              "        vertical-align: top;\n",
              "    }\n",
              "\n",
              "    .dataframe thead th {\n",
              "        text-align: right;\n",
              "    }\n",
              "</style>\n",
              "<table border=\"1\" class=\"dataframe\">\n",
              "  <thead>\n",
              "    <tr style=\"text-align: right;\">\n",
              "      <th></th>\n",
              "      <th>title</th>\n",
              "      <th>score</th>\n",
              "      <th>id</th>\n",
              "      <th>subreddit</th>\n",
              "      <th>url</th>\n",
              "      <th>num_comments</th>\n",
              "      <th>body</th>\n",
              "      <th>created</th>\n",
              "    </tr>\n",
              "  </thead>\n",
              "  <tbody>\n",
              "    <tr>\n",
              "      <th>0</th>\n",
              "      <td>Post-Covid Headache: Symptoms, Causes and Trea...</td>\n",
              "      <td>33</td>\n",
              "      <td>v4tqz8</td>\n",
              "      <td>LongCovid</td>\n",
              "      <td>https://www.reddit.com/r/LongCovid/comments/v4...</td>\n",
              "      <td>51</td>\n",
              "      <td>**Neura Health Post-Covid Headache: Symptoms, ...</td>\n",
              "      <td>1654364074</td>\n",
              "    </tr>\n",
              "    <tr>\n",
              "      <th>1</th>\n",
              "      <td>Vagus Nerve Stim WARNING (Urgent)</td>\n",
              "      <td>10</td>\n",
              "      <td>z1vbs9</td>\n",
              "      <td>LongCovid</td>\n",
              "      <td>https://www.reddit.com/r/LongCovid/comments/z1...</td>\n",
              "      <td>25</td>\n",
              "      <td>Last night I finally used an electrotherapy de...</td>\n",
              "      <td>1669128206</td>\n",
              "    </tr>\n",
              "    <tr>\n",
              "      <th>2</th>\n",
              "      <td>Anyone else constantly “under the weather” 🤧??</td>\n",
              "      <td>7</td>\n",
              "      <td>z1vahm</td>\n",
              "      <td>LongCovid</td>\n",
              "      <td>https://www.reddit.com/r/LongCovid/comments/z1...</td>\n",
              "      <td>3</td>\n",
              "      <td>Seems as if my immune system is now non existe...</td>\n",
              "      <td>1669128121</td>\n",
              "    </tr>\n",
              "    <tr>\n",
              "      <th>3</th>\n",
              "      <td>Links to studies for LDN?</td>\n",
              "      <td>5</td>\n",
              "      <td>z1tl79</td>\n",
              "      <td>LongCovid</td>\n",
              "      <td>https://www.reddit.com/r/LongCovid/comments/z1...</td>\n",
              "      <td>7</td>\n",
              "      <td>Hi, does anyone have any links to studies show...</td>\n",
              "      <td>1669123678</td>\n",
              "    </tr>\n",
              "    <tr>\n",
              "      <th>4</th>\n",
              "      <td>Did you ‘recover’ from Covid before Long Covid...</td>\n",
              "      <td>1</td>\n",
              "      <td>z21e8g</td>\n",
              "      <td>LongCovid</td>\n",
              "      <td>https://www.reddit.com/r/LongCovid/comments/z2...</td>\n",
              "      <td>0</td>\n",
              "      <td>Trying really hard to work out whether having ...</td>\n",
              "      <td>1669142783</td>\n",
              "    </tr>\n",
              "  </tbody>\n",
              "</table>\n",
              "</div>\n",
              "      <button class=\"colab-df-convert\" onclick=\"convertToInteractive('df-dcfa9042-fb0c-41a7-99ce-9869812cf260')\"\n",
              "              title=\"Convert this dataframe to an interactive table.\"\n",
              "              style=\"display:none;\">\n",
              "        \n",
              "  <svg xmlns=\"http://www.w3.org/2000/svg\" height=\"24px\"viewBox=\"0 0 24 24\"\n",
              "       width=\"24px\">\n",
              "    <path d=\"M0 0h24v24H0V0z\" fill=\"none\"/>\n",
              "    <path d=\"M18.56 5.44l.94 2.06.94-2.06 2.06-.94-2.06-.94-.94-2.06-.94 2.06-2.06.94zm-11 1L8.5 8.5l.94-2.06 2.06-.94-2.06-.94L8.5 2.5l-.94 2.06-2.06.94zm10 10l.94 2.06.94-2.06 2.06-.94-2.06-.94-.94-2.06-.94 2.06-2.06.94z\"/><path d=\"M17.41 7.96l-1.37-1.37c-.4-.4-.92-.59-1.43-.59-.52 0-1.04.2-1.43.59L10.3 9.45l-7.72 7.72c-.78.78-.78 2.05 0 2.83L4 21.41c.39.39.9.59 1.41.59.51 0 1.02-.2 1.41-.59l7.78-7.78 2.81-2.81c.8-.78.8-2.07 0-2.86zM5.41 20L4 18.59l7.72-7.72 1.47 1.35L5.41 20z\"/>\n",
              "  </svg>\n",
              "      </button>\n",
              "      \n",
              "  <style>\n",
              "    .colab-df-container {\n",
              "      display:flex;\n",
              "      flex-wrap:wrap;\n",
              "      gap: 12px;\n",
              "    }\n",
              "\n",
              "    .colab-df-convert {\n",
              "      background-color: #E8F0FE;\n",
              "      border: none;\n",
              "      border-radius: 50%;\n",
              "      cursor: pointer;\n",
              "      display: none;\n",
              "      fill: #1967D2;\n",
              "      height: 32px;\n",
              "      padding: 0 0 0 0;\n",
              "      width: 32px;\n",
              "    }\n",
              "\n",
              "    .colab-df-convert:hover {\n",
              "      background-color: #E2EBFA;\n",
              "      box-shadow: 0px 1px 2px rgba(60, 64, 67, 0.3), 0px 1px 3px 1px rgba(60, 64, 67, 0.15);\n",
              "      fill: #174EA6;\n",
              "    }\n",
              "\n",
              "    [theme=dark] .colab-df-convert {\n",
              "      background-color: #3B4455;\n",
              "      fill: #D2E3FC;\n",
              "    }\n",
              "\n",
              "    [theme=dark] .colab-df-convert:hover {\n",
              "      background-color: #434B5C;\n",
              "      box-shadow: 0px 1px 3px 1px rgba(0, 0, 0, 0.15);\n",
              "      filter: drop-shadow(0px 1px 2px rgba(0, 0, 0, 0.3));\n",
              "      fill: #FFFFFF;\n",
              "    }\n",
              "  </style>\n",
              "\n",
              "      <script>\n",
              "        const buttonEl =\n",
              "          document.querySelector('#df-dcfa9042-fb0c-41a7-99ce-9869812cf260 button.colab-df-convert');\n",
              "        buttonEl.style.display =\n",
              "          google.colab.kernel.accessAllowed ? 'block' : 'none';\n",
              "\n",
              "        async function convertToInteractive(key) {\n",
              "          const element = document.querySelector('#df-dcfa9042-fb0c-41a7-99ce-9869812cf260');\n",
              "          const dataTable =\n",
              "            await google.colab.kernel.invokeFunction('convertToInteractive',\n",
              "                                                     [key], {});\n",
              "          if (!dataTable) return;\n",
              "\n",
              "          const docLinkHtml = 'Like what you see? Visit the ' +\n",
              "            '<a target=\"_blank\" href=https://colab.research.google.com/notebooks/data_table.ipynb>data table notebook</a>'\n",
              "            + ' to learn more about interactive tables.';\n",
              "          element.innerHTML = '';\n",
              "          dataTable['output_type'] = 'display_data';\n",
              "          await google.colab.output.renderOutput(dataTable, element);\n",
              "          const docLink = document.createElement('div');\n",
              "          docLink.innerHTML = docLinkHtml;\n",
              "          element.appendChild(docLink);\n",
              "        }\n",
              "      </script>\n",
              "    </div>\n",
              "  </div>\n",
              "  "
            ]
          },
          "metadata": {},
          "execution_count": 47
        }
      ]
    },
    {
      "cell_type": "code",
      "source": [
        "# Checking the last five rows of dataframe\n",
        "posts.tail()"
      ],
      "metadata": {
        "colab": {
          "base_uri": "https://localhost:8080/",
          "height": 669
        },
        "id": "S8gsucPF7BY8",
        "outputId": "cbd1f6f0-99ce-495c-df59-3a074ec83615"
      },
      "execution_count": null,
      "outputs": [
        {
          "output_type": "execute_result",
          "data": {
            "text/plain": [
              "                                                 title  score      id  \\\n",
              "977       Medication/Supplements to help with fatigue?      9  xcf7pa   \n",
              "978  Anyone have an app(android preferred) to track...      1  xcw034   \n",
              "979  Can you help? Is there anyone with similar sym...      5  xckc8k   \n",
              "980           Media coverage — article link sharing :)      0  xculhz   \n",
              "981                                Excessive yawning??      1  xcu0g0   \n",
              "\n",
              "     subreddit                                                url  \\\n",
              "977  LongCovid  https://www.reddit.com/r/LongCovid/comments/xc...   \n",
              "978  LongCovid  https://www.reddit.com/r/LongCovid/comments/xc...   \n",
              "979  LongCovid  https://www.reddit.com/r/LongCovid/comments/xc...   \n",
              "980  LongCovid  https://www.reddit.com/r/LongCovid/comments/xc...   \n",
              "981  LongCovid  https://www.reddit.com/r/LongCovid/comments/xc...   \n",
              "\n",
              "     num_comments                                               body  \\\n",
              "977            21  Hey long haulers, I’m struggling with fatigue ...   \n",
              "978             1  Title.   \\nNotepads don't work, calender doesn...   \n",
              "979             9  Hi!\\n\\nI have read so many people's stories on...   \n",
              "980             0  Hello fellow fighters <3, what do you think ha...   \n",
              "981            15  So I got covid (pretty sure omicron) 01/2022 a...   \n",
              "\n",
              "        created  \n",
              "977  1662995163  \n",
              "978  1663037548  \n",
              "979  1663007300  \n",
              "980  1663033562  \n",
              "981  1663031907  "
            ],
            "text/html": [
              "\n",
              "  <div id=\"df-0a7494bc-e697-44db-aa66-85229a63a53b\">\n",
              "    <div class=\"colab-df-container\">\n",
              "      <div>\n",
              "<style scoped>\n",
              "    .dataframe tbody tr th:only-of-type {\n",
              "        vertical-align: middle;\n",
              "    }\n",
              "\n",
              "    .dataframe tbody tr th {\n",
              "        vertical-align: top;\n",
              "    }\n",
              "\n",
              "    .dataframe thead th {\n",
              "        text-align: right;\n",
              "    }\n",
              "</style>\n",
              "<table border=\"1\" class=\"dataframe\">\n",
              "  <thead>\n",
              "    <tr style=\"text-align: right;\">\n",
              "      <th></th>\n",
              "      <th>title</th>\n",
              "      <th>score</th>\n",
              "      <th>id</th>\n",
              "      <th>subreddit</th>\n",
              "      <th>url</th>\n",
              "      <th>num_comments</th>\n",
              "      <th>body</th>\n",
              "      <th>created</th>\n",
              "    </tr>\n",
              "  </thead>\n",
              "  <tbody>\n",
              "    <tr>\n",
              "      <th>977</th>\n",
              "      <td>Medication/Supplements to help with fatigue?</td>\n",
              "      <td>9</td>\n",
              "      <td>xcf7pa</td>\n",
              "      <td>LongCovid</td>\n",
              "      <td>https://www.reddit.com/r/LongCovid/comments/xc...</td>\n",
              "      <td>21</td>\n",
              "      <td>Hey long haulers, I’m struggling with fatigue ...</td>\n",
              "      <td>1662995163</td>\n",
              "    </tr>\n",
              "    <tr>\n",
              "      <th>978</th>\n",
              "      <td>Anyone have an app(android preferred) to track...</td>\n",
              "      <td>1</td>\n",
              "      <td>xcw034</td>\n",
              "      <td>LongCovid</td>\n",
              "      <td>https://www.reddit.com/r/LongCovid/comments/xc...</td>\n",
              "      <td>1</td>\n",
              "      <td>Title.   \\nNotepads don't work, calender doesn...</td>\n",
              "      <td>1663037548</td>\n",
              "    </tr>\n",
              "    <tr>\n",
              "      <th>979</th>\n",
              "      <td>Can you help? Is there anyone with similar sym...</td>\n",
              "      <td>5</td>\n",
              "      <td>xckc8k</td>\n",
              "      <td>LongCovid</td>\n",
              "      <td>https://www.reddit.com/r/LongCovid/comments/xc...</td>\n",
              "      <td>9</td>\n",
              "      <td>Hi!\\n\\nI have read so many people's stories on...</td>\n",
              "      <td>1663007300</td>\n",
              "    </tr>\n",
              "    <tr>\n",
              "      <th>980</th>\n",
              "      <td>Media coverage — article link sharing :)</td>\n",
              "      <td>0</td>\n",
              "      <td>xculhz</td>\n",
              "      <td>LongCovid</td>\n",
              "      <td>https://www.reddit.com/r/LongCovid/comments/xc...</td>\n",
              "      <td>0</td>\n",
              "      <td>Hello fellow fighters &lt;3, what do you think ha...</td>\n",
              "      <td>1663033562</td>\n",
              "    </tr>\n",
              "    <tr>\n",
              "      <th>981</th>\n",
              "      <td>Excessive yawning??</td>\n",
              "      <td>1</td>\n",
              "      <td>xcu0g0</td>\n",
              "      <td>LongCovid</td>\n",
              "      <td>https://www.reddit.com/r/LongCovid/comments/xc...</td>\n",
              "      <td>15</td>\n",
              "      <td>So I got covid (pretty sure omicron) 01/2022 a...</td>\n",
              "      <td>1663031907</td>\n",
              "    </tr>\n",
              "  </tbody>\n",
              "</table>\n",
              "</div>\n",
              "      <button class=\"colab-df-convert\" onclick=\"convertToInteractive('df-0a7494bc-e697-44db-aa66-85229a63a53b')\"\n",
              "              title=\"Convert this dataframe to an interactive table.\"\n",
              "              style=\"display:none;\">\n",
              "        \n",
              "  <svg xmlns=\"http://www.w3.org/2000/svg\" height=\"24px\"viewBox=\"0 0 24 24\"\n",
              "       width=\"24px\">\n",
              "    <path d=\"M0 0h24v24H0V0z\" fill=\"none\"/>\n",
              "    <path d=\"M18.56 5.44l.94 2.06.94-2.06 2.06-.94-2.06-.94-.94-2.06-.94 2.06-2.06.94zm-11 1L8.5 8.5l.94-2.06 2.06-.94-2.06-.94L8.5 2.5l-.94 2.06-2.06.94zm10 10l.94 2.06.94-2.06 2.06-.94-2.06-.94-.94-2.06-.94 2.06-2.06.94z\"/><path d=\"M17.41 7.96l-1.37-1.37c-.4-.4-.92-.59-1.43-.59-.52 0-1.04.2-1.43.59L10.3 9.45l-7.72 7.72c-.78.78-.78 2.05 0 2.83L4 21.41c.39.39.9.59 1.41.59.51 0 1.02-.2 1.41-.59l7.78-7.78 2.81-2.81c.8-.78.8-2.07 0-2.86zM5.41 20L4 18.59l7.72-7.72 1.47 1.35L5.41 20z\"/>\n",
              "  </svg>\n",
              "      </button>\n",
              "      \n",
              "  <style>\n",
              "    .colab-df-container {\n",
              "      display:flex;\n",
              "      flex-wrap:wrap;\n",
              "      gap: 12px;\n",
              "    }\n",
              "\n",
              "    .colab-df-convert {\n",
              "      background-color: #E8F0FE;\n",
              "      border: none;\n",
              "      border-radius: 50%;\n",
              "      cursor: pointer;\n",
              "      display: none;\n",
              "      fill: #1967D2;\n",
              "      height: 32px;\n",
              "      padding: 0 0 0 0;\n",
              "      width: 32px;\n",
              "    }\n",
              "\n",
              "    .colab-df-convert:hover {\n",
              "      background-color: #E2EBFA;\n",
              "      box-shadow: 0px 1px 2px rgba(60, 64, 67, 0.3), 0px 1px 3px 1px rgba(60, 64, 67, 0.15);\n",
              "      fill: #174EA6;\n",
              "    }\n",
              "\n",
              "    [theme=dark] .colab-df-convert {\n",
              "      background-color: #3B4455;\n",
              "      fill: #D2E3FC;\n",
              "    }\n",
              "\n",
              "    [theme=dark] .colab-df-convert:hover {\n",
              "      background-color: #434B5C;\n",
              "      box-shadow: 0px 1px 3px 1px rgba(0, 0, 0, 0.15);\n",
              "      filter: drop-shadow(0px 1px 2px rgba(0, 0, 0, 0.3));\n",
              "      fill: #FFFFFF;\n",
              "    }\n",
              "  </style>\n",
              "\n",
              "      <script>\n",
              "        const buttonEl =\n",
              "          document.querySelector('#df-0a7494bc-e697-44db-aa66-85229a63a53b button.colab-df-convert');\n",
              "        buttonEl.style.display =\n",
              "          google.colab.kernel.accessAllowed ? 'block' : 'none';\n",
              "\n",
              "        async function convertToInteractive(key) {\n",
              "          const element = document.querySelector('#df-0a7494bc-e697-44db-aa66-85229a63a53b');\n",
              "          const dataTable =\n",
              "            await google.colab.kernel.invokeFunction('convertToInteractive',\n",
              "                                                     [key], {});\n",
              "          if (!dataTable) return;\n",
              "\n",
              "          const docLinkHtml = 'Like what you see? Visit the ' +\n",
              "            '<a target=\"_blank\" href=https://colab.research.google.com/notebooks/data_table.ipynb>data table notebook</a>'\n",
              "            + ' to learn more about interactive tables.';\n",
              "          element.innerHTML = '';\n",
              "          dataTable['output_type'] = 'display_data';\n",
              "          await google.colab.output.renderOutput(dataTable, element);\n",
              "          const docLink = document.createElement('div');\n",
              "          docLink.innerHTML = docLinkHtml;\n",
              "          element.appendChild(docLink);\n",
              "        }\n",
              "      </script>\n",
              "    </div>\n",
              "  </div>\n",
              "  "
            ]
          },
          "metadata": {},
          "execution_count": 48
        }
      ]
    },
    {
      "cell_type": "code",
      "source": [
        "# Checking for duplicates\n",
        "posts.duplicated(subset='id').sum()"
      ],
      "metadata": {
        "colab": {
          "base_uri": "https://localhost:8080/"
        },
        "id": "qXLiQeXM7EYx",
        "outputId": "a5f091da-c333-4963-f9dd-bd8df7447637"
      },
      "execution_count": null,
      "outputs": [
        {
          "output_type": "execute_result",
          "data": {
            "text/plain": [
              "0"
            ]
          },
          "metadata": {},
          "execution_count": 49
        }
      ]
    },
    {
      "cell_type": "code",
      "source": [
        "# Checking for missing data or null\n",
        "posts.isnull().sum()"
      ],
      "metadata": {
        "colab": {
          "base_uri": "https://localhost:8080/"
        },
        "id": "-zmLWQEJ7Jfu",
        "outputId": "7f41bfbd-a2f4-4b10-c609-a747925208a4"
      },
      "execution_count": null,
      "outputs": [
        {
          "output_type": "execute_result",
          "data": {
            "text/plain": [
              "title             0\n",
              "score             0\n",
              "id                0\n",
              "subreddit         0\n",
              "url               0\n",
              "num_comments      0\n",
              "body            155\n",
              "created           0\n",
              "dtype: int64"
            ]
          },
          "metadata": {},
          "execution_count": 8
        }
      ]
    },
    {
      "cell_type": "code",
      "source": [
        "# Drop rows with null values in body because there are no text to analyse in those rows\n",
        "posts = posts.dropna()"
      ],
      "metadata": {
        "id": "Q4MVspEQpNDw"
      },
      "execution_count": null,
      "outputs": []
    },
    {
      "cell_type": "code",
      "source": [
        "# Checking for missing data or null\n",
        "posts.isnull().sum()"
      ],
      "metadata": {
        "colab": {
          "base_uri": "https://localhost:8080/"
        },
        "id": "5DSeEH9jqh_K",
        "outputId": "8535d387-f7ab-4e4e-f4b4-3bd3e16b19b1"
      },
      "execution_count": null,
      "outputs": [
        {
          "output_type": "execute_result",
          "data": {
            "text/plain": [
              "title           0\n",
              "score           0\n",
              "id              0\n",
              "subreddit       0\n",
              "url             0\n",
              "num_comments    0\n",
              "body            0\n",
              "created         0\n",
              "dtype: int64"
            ]
          },
          "metadata": {},
          "execution_count": 10
        }
      ]
    },
    {
      "cell_type": "code",
      "source": [
        "posts.shape"
      ],
      "metadata": {
        "colab": {
          "base_uri": "https://localhost:8080/"
        },
        "id": "9rTLBkRPqoHv",
        "outputId": "b6d73e2a-1e5e-464a-c59e-b440393e4d03"
      },
      "execution_count": null,
      "outputs": [
        {
          "output_type": "execute_result",
          "data": {
            "text/plain": [
              "(827, 9)"
            ]
          },
          "metadata": {},
          "execution_count": 28
        }
      ]
    },
    {
      "cell_type": "code",
      "source": [
        "# Checking the datatypes of each column\n",
        "posts.dtypes"
      ],
      "metadata": {
        "colab": {
          "base_uri": "https://localhost:8080/"
        },
        "id": "6ajsF3Ef7O5z",
        "outputId": "3f393d6f-e5d3-482d-f5b5-d31af5c2bdd7"
      },
      "execution_count": null,
      "outputs": [
        {
          "output_type": "execute_result",
          "data": {
            "text/plain": [
              "title           object\n",
              "score            int64\n",
              "id              object\n",
              "subreddit       object\n",
              "url             object\n",
              "num_comments     int64\n",
              "body            object\n",
              "created          int64\n",
              "dtype: object"
            ]
          },
          "metadata": {},
          "execution_count": 55
        }
      ]
    },
    {
      "cell_type": "markdown",
      "source": [
        "<a id=\"datac\"></a>\n",
        "# 3. Data Cleaning\n",
        "The text data is pre-processed before being analysed because the raw text data may contain unimportant text that might affect the accuracy of the analysis."
      ],
      "metadata": {
        "id": "AJYm1A3D7X3Q"
      }
    },
    {
      "cell_type": "markdown",
      "source": [
        "#### The 'body' feature contains the users' posts. We will only use that feature for the text analysis."
      ],
      "metadata": {
        "id": "VoeH0ta97zty"
      }
    },
    {
      "cell_type": "code",
      "source": [
        "# Install all the necessary packages\n",
        "nltk.download('punkt')"
      ],
      "metadata": {
        "colab": {
          "base_uri": "https://localhost:8080/"
        },
        "id": "usp1bSwR9POo",
        "outputId": "39155cc3-a2bd-4ddc-c1a4-40203caec9b0"
      },
      "execution_count": null,
      "outputs": [
        {
          "output_type": "stream",
          "name": "stderr",
          "text": [
            "[nltk_data] Downloading package punkt to /root/nltk_data...\n",
            "[nltk_data]   Unzipping tokenizers/punkt.zip.\n"
          ]
        },
        {
          "output_type": "execute_result",
          "data": {
            "text/plain": [
              "True"
            ]
          },
          "metadata": {},
          "execution_count": 11
        }
      ]
    },
    {
      "cell_type": "code",
      "source": [
        "nltk.download('wordnet')"
      ],
      "metadata": {
        "colab": {
          "base_uri": "https://localhost:8080/"
        },
        "id": "mrDPYFDw9Sap",
        "outputId": "5f463a9e-7b85-4b87-e7bf-ac0630f3c6fd"
      },
      "execution_count": null,
      "outputs": [
        {
          "output_type": "stream",
          "name": "stderr",
          "text": [
            "[nltk_data] Downloading package wordnet to /root/nltk_data...\n"
          ]
        },
        {
          "output_type": "execute_result",
          "data": {
            "text/plain": [
              "True"
            ]
          },
          "metadata": {},
          "execution_count": 12
        }
      ]
    },
    {
      "cell_type": "code",
      "source": [
        "nltk.download('omw-1.4')"
      ],
      "metadata": {
        "colab": {
          "base_uri": "https://localhost:8080/"
        },
        "id": "0OPrJnVE-POC",
        "outputId": "9dbbcaf5-cc9e-4fe9-9929-0e42c2cf9bc6"
      },
      "execution_count": null,
      "outputs": [
        {
          "output_type": "stream",
          "name": "stderr",
          "text": [
            "[nltk_data] Downloading package omw-1.4 to /root/nltk_data...\n"
          ]
        },
        {
          "output_type": "execute_result",
          "data": {
            "text/plain": [
              "True"
            ]
          },
          "metadata": {},
          "execution_count": 13
        }
      ]
    },
    {
      "cell_type": "code",
      "source": [
        "emojis = list(UNICODE_EMOJI.keys())"
      ],
      "metadata": {
        "id": "_nuiXc828Tke"
      },
      "execution_count": null,
      "outputs": []
    },
    {
      "cell_type": "code",
      "source": [
        "# preProcess posts for sentiment analysis\n",
        "def preprocessPosts(body):\n",
        "    body = body.lower()\n",
        "    # Cleaning and removing URL’s\n",
        "    body = re.sub(r\"(@\\[A-Za-z0-9]+)|([^0-9A-Za-z \\t])|(\\w+:\\/\\/\\S+)|^rt|http.+?\", \"\", body, flags = re.MULTILINE)\n",
        "    body = body.translate(str.maketrans('', '', string.punctuation))\n",
        "    # Cleaning and removing the emojis from the posts text\n",
        "    body_tokens = word_tokenize(body)  \n",
        "    filtered_words = [w for w in body_tokens if w not in emojis]\n",
        "    # Cleaning and removing punctuations\n",
        "    unpunctuated_words = [w for w in filtered_words if w not in string.punctuation]\n",
        "    lemmatizer = WordNetLemmatizer() \n",
        "    lemma_words = [lemmatizer.lemmatize(w) for w in unpunctuated_words]\n",
        "    return \" \".join(lemma_words)"
      ],
      "metadata": {
        "id": "rruPXAgB9a53"
      },
      "execution_count": null,
      "outputs": []
    },
    {
      "cell_type": "code",
      "source": [
        "# Generate a new column called 'Processed Posts' by applying preprocessed posts function to the nlp_text dataframe.\n",
        "posts['Processed_Posts'] = posts['body'].apply(preprocessPosts)\n",
        "posts.head()"
      ],
      "metadata": {
        "colab": {
          "base_uri": "https://localhost:8080/",
          "height": 652
        },
        "id": "9bTEEkdF9oNA",
        "outputId": "58253c82-5886-4ca5-b36b-8f19feabbf21"
      },
      "execution_count": null,
      "outputs": [
        {
          "output_type": "execute_result",
          "data": {
            "text/plain": [
              "                                               title  score      id  \\\n",
              "0  Post-Covid Headache: Symptoms, Causes and Trea...     33  v4tqz8   \n",
              "1                  Vagus Nerve Stim WARNING (Urgent)     10  z1vbs9   \n",
              "2     Anyone else constantly “under the weather” 🤧??      7  z1vahm   \n",
              "3                          Links to studies for LDN?      5  z1tl79   \n",
              "4  Did you ‘recover’ from Covid before Long Covid...      1  z21e8g   \n",
              "\n",
              "   subreddit                                                url  num_comments  \\\n",
              "0  LongCovid  https://www.reddit.com/r/LongCovid/comments/v4...            51   \n",
              "1  LongCovid  https://www.reddit.com/r/LongCovid/comments/z1...            25   \n",
              "2  LongCovid  https://www.reddit.com/r/LongCovid/comments/z1...             3   \n",
              "3  LongCovid  https://www.reddit.com/r/LongCovid/comments/z1...             7   \n",
              "4  LongCovid  https://www.reddit.com/r/LongCovid/comments/z2...             0   \n",
              "\n",
              "                                                body     created  \\\n",
              "0  **Neura Health Post-Covid Headache: Symptoms, ...  1654364074   \n",
              "1  Last night I finally used an electrotherapy de...  1669128206   \n",
              "2  Seems as if my immune system is now non existe...  1669128121   \n",
              "3  Hi, does anyone have any links to studies show...  1669123678   \n",
              "4  Trying really hard to work out whether having ...  1669142783   \n",
              "\n",
              "                                     Processed_Posts  \n",
              "0  neura health postcovid headache symptom cause ...  \n",
              "1  last night i finally used an electrotherapy de...  \n",
              "2  seems a if my immune system is now non existen...  \n",
              "3  hi doe anyone have any link to study showing t...  \n",
              "4  trying really hard to work out whether having ...  "
            ],
            "text/html": [
              "\n",
              "  <div id=\"df-905546f9-3304-461e-87ee-3818b2984912\">\n",
              "    <div class=\"colab-df-container\">\n",
              "      <div>\n",
              "<style scoped>\n",
              "    .dataframe tbody tr th:only-of-type {\n",
              "        vertical-align: middle;\n",
              "    }\n",
              "\n",
              "    .dataframe tbody tr th {\n",
              "        vertical-align: top;\n",
              "    }\n",
              "\n",
              "    .dataframe thead th {\n",
              "        text-align: right;\n",
              "    }\n",
              "</style>\n",
              "<table border=\"1\" class=\"dataframe\">\n",
              "  <thead>\n",
              "    <tr style=\"text-align: right;\">\n",
              "      <th></th>\n",
              "      <th>title</th>\n",
              "      <th>score</th>\n",
              "      <th>id</th>\n",
              "      <th>subreddit</th>\n",
              "      <th>url</th>\n",
              "      <th>num_comments</th>\n",
              "      <th>body</th>\n",
              "      <th>created</th>\n",
              "      <th>Processed_Posts</th>\n",
              "    </tr>\n",
              "  </thead>\n",
              "  <tbody>\n",
              "    <tr>\n",
              "      <th>0</th>\n",
              "      <td>Post-Covid Headache: Symptoms, Causes and Trea...</td>\n",
              "      <td>33</td>\n",
              "      <td>v4tqz8</td>\n",
              "      <td>LongCovid</td>\n",
              "      <td>https://www.reddit.com/r/LongCovid/comments/v4...</td>\n",
              "      <td>51</td>\n",
              "      <td>**Neura Health Post-Covid Headache: Symptoms, ...</td>\n",
              "      <td>1654364074</td>\n",
              "      <td>neura health postcovid headache symptom cause ...</td>\n",
              "    </tr>\n",
              "    <tr>\n",
              "      <th>1</th>\n",
              "      <td>Vagus Nerve Stim WARNING (Urgent)</td>\n",
              "      <td>10</td>\n",
              "      <td>z1vbs9</td>\n",
              "      <td>LongCovid</td>\n",
              "      <td>https://www.reddit.com/r/LongCovid/comments/z1...</td>\n",
              "      <td>25</td>\n",
              "      <td>Last night I finally used an electrotherapy de...</td>\n",
              "      <td>1669128206</td>\n",
              "      <td>last night i finally used an electrotherapy de...</td>\n",
              "    </tr>\n",
              "    <tr>\n",
              "      <th>2</th>\n",
              "      <td>Anyone else constantly “under the weather” 🤧??</td>\n",
              "      <td>7</td>\n",
              "      <td>z1vahm</td>\n",
              "      <td>LongCovid</td>\n",
              "      <td>https://www.reddit.com/r/LongCovid/comments/z1...</td>\n",
              "      <td>3</td>\n",
              "      <td>Seems as if my immune system is now non existe...</td>\n",
              "      <td>1669128121</td>\n",
              "      <td>seems a if my immune system is now non existen...</td>\n",
              "    </tr>\n",
              "    <tr>\n",
              "      <th>3</th>\n",
              "      <td>Links to studies for LDN?</td>\n",
              "      <td>5</td>\n",
              "      <td>z1tl79</td>\n",
              "      <td>LongCovid</td>\n",
              "      <td>https://www.reddit.com/r/LongCovid/comments/z1...</td>\n",
              "      <td>7</td>\n",
              "      <td>Hi, does anyone have any links to studies show...</td>\n",
              "      <td>1669123678</td>\n",
              "      <td>hi doe anyone have any link to study showing t...</td>\n",
              "    </tr>\n",
              "    <tr>\n",
              "      <th>4</th>\n",
              "      <td>Did you ‘recover’ from Covid before Long Covid...</td>\n",
              "      <td>1</td>\n",
              "      <td>z21e8g</td>\n",
              "      <td>LongCovid</td>\n",
              "      <td>https://www.reddit.com/r/LongCovid/comments/z2...</td>\n",
              "      <td>0</td>\n",
              "      <td>Trying really hard to work out whether having ...</td>\n",
              "      <td>1669142783</td>\n",
              "      <td>trying really hard to work out whether having ...</td>\n",
              "    </tr>\n",
              "  </tbody>\n",
              "</table>\n",
              "</div>\n",
              "      <button class=\"colab-df-convert\" onclick=\"convertToInteractive('df-905546f9-3304-461e-87ee-3818b2984912')\"\n",
              "              title=\"Convert this dataframe to an interactive table.\"\n",
              "              style=\"display:none;\">\n",
              "        \n",
              "  <svg xmlns=\"http://www.w3.org/2000/svg\" height=\"24px\"viewBox=\"0 0 24 24\"\n",
              "       width=\"24px\">\n",
              "    <path d=\"M0 0h24v24H0V0z\" fill=\"none\"/>\n",
              "    <path d=\"M18.56 5.44l.94 2.06.94-2.06 2.06-.94-2.06-.94-.94-2.06-.94 2.06-2.06.94zm-11 1L8.5 8.5l.94-2.06 2.06-.94-2.06-.94L8.5 2.5l-.94 2.06-2.06.94zm10 10l.94 2.06.94-2.06 2.06-.94-2.06-.94-.94-2.06-.94 2.06-2.06.94z\"/><path d=\"M17.41 7.96l-1.37-1.37c-.4-.4-.92-.59-1.43-.59-.52 0-1.04.2-1.43.59L10.3 9.45l-7.72 7.72c-.78.78-.78 2.05 0 2.83L4 21.41c.39.39.9.59 1.41.59.51 0 1.02-.2 1.41-.59l7.78-7.78 2.81-2.81c.8-.78.8-2.07 0-2.86zM5.41 20L4 18.59l7.72-7.72 1.47 1.35L5.41 20z\"/>\n",
              "  </svg>\n",
              "      </button>\n",
              "      \n",
              "  <style>\n",
              "    .colab-df-container {\n",
              "      display:flex;\n",
              "      flex-wrap:wrap;\n",
              "      gap: 12px;\n",
              "    }\n",
              "\n",
              "    .colab-df-convert {\n",
              "      background-color: #E8F0FE;\n",
              "      border: none;\n",
              "      border-radius: 50%;\n",
              "      cursor: pointer;\n",
              "      display: none;\n",
              "      fill: #1967D2;\n",
              "      height: 32px;\n",
              "      padding: 0 0 0 0;\n",
              "      width: 32px;\n",
              "    }\n",
              "\n",
              "    .colab-df-convert:hover {\n",
              "      background-color: #E2EBFA;\n",
              "      box-shadow: 0px 1px 2px rgba(60, 64, 67, 0.3), 0px 1px 3px 1px rgba(60, 64, 67, 0.15);\n",
              "      fill: #174EA6;\n",
              "    }\n",
              "\n",
              "    [theme=dark] .colab-df-convert {\n",
              "      background-color: #3B4455;\n",
              "      fill: #D2E3FC;\n",
              "    }\n",
              "\n",
              "    [theme=dark] .colab-df-convert:hover {\n",
              "      background-color: #434B5C;\n",
              "      box-shadow: 0px 1px 3px 1px rgba(0, 0, 0, 0.15);\n",
              "      filter: drop-shadow(0px 1px 2px rgba(0, 0, 0, 0.3));\n",
              "      fill: #FFFFFF;\n",
              "    }\n",
              "  </style>\n",
              "\n",
              "      <script>\n",
              "        const buttonEl =\n",
              "          document.querySelector('#df-905546f9-3304-461e-87ee-3818b2984912 button.colab-df-convert');\n",
              "        buttonEl.style.display =\n",
              "          google.colab.kernel.accessAllowed ? 'block' : 'none';\n",
              "\n",
              "        async function convertToInteractive(key) {\n",
              "          const element = document.querySelector('#df-905546f9-3304-461e-87ee-3818b2984912');\n",
              "          const dataTable =\n",
              "            await google.colab.kernel.invokeFunction('convertToInteractive',\n",
              "                                                     [key], {});\n",
              "          if (!dataTable) return;\n",
              "\n",
              "          const docLinkHtml = 'Like what you see? Visit the ' +\n",
              "            '<a target=\"_blank\" href=https://colab.research.google.com/notebooks/data_table.ipynb>data table notebook</a>'\n",
              "            + ' to learn more about interactive tables.';\n",
              "          element.innerHTML = '';\n",
              "          dataTable['output_type'] = 'display_data';\n",
              "          await google.colab.output.renderOutput(dataTable, element);\n",
              "          const docLink = document.createElement('div');\n",
              "          docLink.innerHTML = docLinkHtml;\n",
              "          element.appendChild(docLink);\n",
              "        }\n",
              "      </script>\n",
              "    </div>\n",
              "  </div>\n",
              "  "
            ]
          },
          "metadata": {},
          "execution_count": 30
        }
      ]
    },
    {
      "cell_type": "code",
      "source": [
        "# Create a new dataframe to store only the relevant feature to be used from the 'posts' dataframe which is the Processed_Posts column.\n",
        "nlp_text = posts['Processed_Posts']\n",
        "nlp_text.head()"
      ],
      "metadata": {
        "colab": {
          "base_uri": "https://localhost:8080/"
        },
        "id": "lJR3hshl-y9b",
        "outputId": "25b4f618-4b02-4a49-c629-e9be32d4da9c"
      },
      "execution_count": null,
      "outputs": [
        {
          "output_type": "execute_result",
          "data": {
            "text/plain": [
              "0    neura health postcovid headache symptom cause ...\n",
              "1    last night i finally used an electrotherapy de...\n",
              "2    seems a if my immune system is now non existen...\n",
              "3    hi doe anyone have any link to study showing t...\n",
              "4    trying really hard to work out whether having ...\n",
              "Name: Processed_Posts, dtype: object"
            ]
          },
          "metadata": {},
          "execution_count": 21
        }
      ]
    },
    {
      "cell_type": "code",
      "source": [
        "# Export the dataframe to a txt file\n",
        "nlp_text.to_csv(\"NLP_text.txt\", index=False)"
      ],
      "metadata": {
        "id": "Z7eqv0YB_D8G"
      },
      "execution_count": null,
      "outputs": []
    },
    {
      "cell_type": "markdown",
      "source": [
        "# 4. Data Visualization"
      ],
      "metadata": {
        "id": "L9feDJ9a_Lnw"
      }
    },
    {
      "cell_type": "code",
      "source": [
        "from nltk.corpus import stopwords"
      ],
      "metadata": {
        "id": "M5_EPalouRLr"
      },
      "execution_count": null,
      "outputs": []
    },
    {
      "cell_type": "code",
      "source": [
        "nltk.download('stopwords')"
      ],
      "metadata": {
        "colab": {
          "base_uri": "https://localhost:8080/"
        },
        "id": "eIP5YSTeuRwr",
        "outputId": "4664375f-cea1-4e36-a977-6abc07ceec8d"
      },
      "execution_count": null,
      "outputs": [
        {
          "output_type": "stream",
          "name": "stderr",
          "text": [
            "[nltk_data] Downloading package stopwords to /root/nltk_data...\n",
            "[nltk_data]   Unzipping corpora/stopwords.zip.\n"
          ]
        },
        {
          "output_type": "execute_result",
          "data": {
            "text/plain": [
              "True"
            ]
          },
          "metadata": {},
          "execution_count": 11
        }
      ]
    },
    {
      "cell_type": "code",
      "source": [
        "# Defining my NLTK stop words and my user-defined stop words\n",
        "# We remove stop words to generate a word cloud that contains only the words that might describe the corpus\n",
        "stop_words = list(stopwords.words('english'))\n",
        "user_stop_words = [\"i\", \"i'm\", \"me\", \"my\", \"myself\", \"we\", \"our\", \"ours\", \"ourselves\", \"you\", \"your\", \"yours\", \"yourself\", \n",
        "                   \"yourselves\", \"he\", \"him\", \"his\", \"himself\", \"she\", \"her\", \"hers\", \"herself\", \"it\", \"its\", \"itself\",\n",
        "                   \"they\", \"them\", \"their\", \"theirs\", \"themselves\", \"what\", \"which\", \"who\", \"whom\", \"this\", \"that\", \n",
        "                   \"these\", \"those\", \"am\", \"is\", \"are\", \"was\", \"were\", \"be\", \"been\", \"being\", \"have\", \"has\", \"had\", \n",
        "                   \"having\", \"do\", \"does\", \"did\", \"doing\", \"a\", \"an\", \"the\", \"and\", \"but\", \"i'll\",\"we'll\",\"they'll\",\"you'll\",\"she'll\",\"he'll\",\"'ll\",\"n't\",\n",
        "                   \"'s\",'anyone','today','yesterday','day', 'already', 'year', 'many', 'much', 'amp', 'next', 'cant', 'wont', 'hadnt','havent', 'hasnt', \n",
        "                   'isnt', 'shouldnt', \"didn't\", \"couldn't\", 'wasnt', 'werent','mustnt', \n",
        "                   'been…','aht', 've', 'next',\"all\", \"any\", \"both\", \"each\", 'by',\n",
        "                  'year',]\n",
        "\n",
        "alphabets = list(string.ascii_lowercase)\n",
        "stop_words = stop_words + user_stop_words + alphabets "
      ],
      "metadata": {
        "id": "ySuzK1oRuMG6"
      },
      "execution_count": null,
      "outputs": []
    },
    {
      "cell_type": "code",
      "source": [
        "posts['Processed_Posts_2'] = nlp_text['Processed_Posts'].apply(lambda x: ' '.join([word for word in x.split() if word not in (stop_words)]))"
      ],
      "metadata": {
        "id": "tve6f5Rbvyix"
      },
      "execution_count": null,
      "outputs": []
    },
    {
      "cell_type": "code",
      "source": [
        "nlp_vis = posts['Processed_Posts_2']"
      ],
      "metadata": {
        "id": "ufGpgY_3tOtJ"
      },
      "execution_count": null,
      "outputs": []
    },
    {
      "cell_type": "code",
      "source": [
        "# Importing necessary libraries\n",
        "import random\n",
        "from PIL import Image\n",
        "from wordcloud import WordCloud\n",
        "import matplotlib.pyplot as plt"
      ],
      "metadata": {
        "id": "UUIAzskc_l4r"
      },
      "execution_count": null,
      "outputs": []
    },
    {
      "cell_type": "code",
      "source": [
        "# Extract all posts into one long string with each word separate with a \"space\"\n",
        "posts_long_string = nlp_vis.tolist()\n",
        "posts_long_string = \" \".join(posts_long_string)"
      ],
      "metadata": {
        "id": "6gXvPn6y_PAv"
      },
      "execution_count": null,
      "outputs": []
    },
    {
      "cell_type": "code",
      "source": [
        "# Create function to generate the blue colour for the Word CLoud\n",
        "def yellow_color_func(word, font_size, position, orientation, random_state=None,**kwargs):\n",
        "    return \"hsl(54, 99%%, %d%%)\" % random.randint(50, 80)"
      ],
      "metadata": {
        "id": "EHYS1xxb_ilN"
      },
      "execution_count": null,
      "outputs": []
    },
    {
      "cell_type": "code",
      "source": [
        "# Import Covid Logo\n",
        "image = np.array(Image.open('/content/covid.png'))\n",
        "    \n",
        "# Generate word cloud\n",
        "word_cloud = WordCloud(\n",
        "    width=5000,\n",
        "    height=3000,\n",
        "    random_state=123,\n",
        "    background_color=\"purple\",\n",
        "    colormap=\"Set2\",\n",
        "    collocations=False,\n",
        "    mask=image\n",
        ").generate(posts_long_string)\n",
        "\n",
        "# Display the generated Word Cloud\n",
        "plt.figure(figsize=[15,10], facecolor='none')\n",
        "plt.imshow(word_cloud)\n",
        "plt.axis(\"off\")\n",
        "plt.title('Word Cloud Representation of Reddit Posts')\n",
        "plt.show()"
      ],
      "metadata": {
        "colab": {
          "base_uri": "https://localhost:8080/",
          "height": 591
        },
        "id": "hRNTvaCW_vRD",
        "outputId": "5dc22fce-89ea-487c-de64-bbd1de0699fb"
      },
      "execution_count": null,
      "outputs": [
        {
          "output_type": "display_data",
          "data": {
            "text/plain": [
              "<Figure size 1080x720 with 1 Axes>"
            ],
            "image/png": "[encoded data removed]"
          },
          "metadata": {
            "needs_background": "light"
          }
        }
      ]
    }
  ]
}